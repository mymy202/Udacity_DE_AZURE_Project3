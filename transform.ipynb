{
 "cells": [
  {
   "cell_type": "markdown",
   "metadata": {
    "application/vnd.databricks.v1+cell": {
     "cellMetadata": {
      "byteLimit": 2048000,
      "rowLimit": 10000
     },
     "inputWidgets": {},
     "nuid": "96816ed7-b08a-4ca3-abb9-f99880c3535d",
     "showTitle": false,
     "title": ""
    }
   },
   "source": [
    "\n",
    "## Overview\n",
    "\n",
    "This notebook will transform data "
   ]
  },
  {
   "cell_type": "markdown",
   "metadata": {
    "application/vnd.databricks.v1+cell": {
     "cellMetadata": {
      "byteLimit": 2048000,
      "rowLimit": 10000
     },
     "inputWidgets": {},
     "nuid": "cec41bc2-c9cd-4792-9f70-2de02b85f294",
     "showTitle": false,
     "title": ""
    }
   },
   "source": [
    "## Transform fact_payment"
   ]
  },
  {
   "cell_type": "code",
   "execution_count": 0,
   "metadata": {
    "application/vnd.databricks.v1+cell": {
     "cellMetadata": {
      "byteLimit": 2048000,
      "rowLimit": 10000
     },
     "inputWidgets": {},
     "nuid": "63465767-93de-497f-8270-d217ef86298d",
     "showTitle": false,
     "title": ""
    }
   },
   "outputs": [],
   "source": [
    "from pyspark.sql.functions import *\n",
    "from pyspark.sql.types import TimestampType, StringType"
   ]
  },
  {
   "cell_type": "code",
   "execution_count": 0,
   "metadata": {
    "application/vnd.databricks.v1+cell": {
     "cellMetadata": {
      "byteLimit": 2048000,
      "rowLimit": 10000
     },
     "inputWidgets": {},
     "nuid": "fddead20-6fcc-4aaa-b6b1-24abfdd3a312",
     "showTitle": false,
     "title": ""
    }
   },
   "outputs": [
    {
     "output_type": "display_data",
     "data": {
      "text/html": [
       "<style scoped>\n",
       "  .table-result-container {\n",
       "    max-height: 300px;\n",
       "    overflow: auto;\n",
       "  }\n",
       "  table, th, td {\n",
       "    border: 1px solid black;\n",
       "    border-collapse: collapse;\n",
       "  }\n",
       "  th, td {\n",
       "    padding: 5px;\n",
       "  }\n",
       "  th {\n",
       "    text-align: left;\n",
       "  }\n",
       "</style><div class='table-result-container'><table class='table-result'><thead style='background-color: white'><tr><th>payment_id</th><th>date</th><th>amount</th><th>rider_id</th></tr></thead><tbody><tr><td>1</td><td>2019-05-01</td><td>9.0</td><td>1000</td></tr><tr><td>2</td><td>2019-06-01</td><td>9.0</td><td>1000</td></tr><tr><td>3</td><td>2019-07-01</td><td>9.0</td><td>1000</td></tr><tr><td>4</td><td>2019-08-01</td><td>9.0</td><td>1000</td></tr><tr><td>5</td><td>2019-09-01</td><td>9.0</td><td>1000</td></tr><tr><td>6</td><td>2019-10-01</td><td>9.0</td><td>1000</td></tr><tr><td>7</td><td>2019-11-01</td><td>9.0</td><td>1000</td></tr><tr><td>8</td><td>2019-12-01</td><td>9.0</td><td>1000</td></tr><tr><td>9</td><td>2020-01-01</td><td>9.0</td><td>1000</td></tr><tr><td>10</td><td>2020-02-01</td><td>9.0</td><td>1000</td></tr></tbody></table></div>"
      ]
     },
     "metadata": {
      "application/vnd.databricks.v1+output": {
       "addedWidgets": {},
       "aggData": [],
       "aggError": "",
       "aggOverflow": false,
       "aggSchema": [],
       "aggSeriesLimitReached": false,
       "aggType": "",
       "arguments": {},
       "columnCustomDisplayInfos": {},
       "data": [
        [
         "1",
         "2019-05-01",
         "9.0",
         "1000"
        ],
        [
         "2",
         "2019-06-01",
         "9.0",
         "1000"
        ],
        [
         "3",
         "2019-07-01",
         "9.0",
         "1000"
        ],
        [
         "4",
         "2019-08-01",
         "9.0",
         "1000"
        ],
        [
         "5",
         "2019-09-01",
         "9.0",
         "1000"
        ],
        [
         "6",
         "2019-10-01",
         "9.0",
         "1000"
        ],
        [
         "7",
         "2019-11-01",
         "9.0",
         "1000"
        ],
        [
         "8",
         "2019-12-01",
         "9.0",
         "1000"
        ],
        [
         "9",
         "2020-01-01",
         "9.0",
         "1000"
        ],
        [
         "10",
         "2020-02-01",
         "9.0",
         "1000"
        ]
       ],
       "datasetInfos": [],
       "dbfsResultPath": null,
       "isJsonSchema": true,
       "metadata": {},
       "overflow": false,
       "plotOptions": {
        "customPlotOptions": {},
        "displayType": "table",
        "pivotAggregation": null,
        "pivotColumns": null,
        "xColumns": null,
        "yColumns": null
       },
       "removedWidgets": [],
       "schema": [
        {
         "metadata": "{}",
         "name": "payment_id",
         "type": "\"string\""
        },
        {
         "metadata": "{}",
         "name": "date",
         "type": "\"string\""
        },
        {
         "metadata": "{}",
         "name": "amount",
         "type": "\"string\""
        },
        {
         "metadata": "{}",
         "name": "rider_id",
         "type": "\"string\""
        }
       ],
       "type": "table"
      }
     },
     "output_type": "display_data"
    }
   ],
   "source": [
    "# Read data default taging_payments\n",
    "\n",
    "df_payments = spark.table(\"taging_payments\")\n",
    "\n",
    "display(df_payments.limit(10))"
   ]
  },
  {
   "cell_type": "code",
   "execution_count": 0,
   "metadata": {
    "application/vnd.databricks.v1+cell": {
     "cellMetadata": {
      "byteLimit": 2048000,
      "rowLimit": 10000
     },
     "inputWidgets": {},
     "nuid": "be1dc824-b19d-4698-b5f6-440a04a115c8",
     "showTitle": false,
     "title": ""
    }
   },
   "outputs": [],
   "source": [
    "\n",
    "#create fact_payment table\n",
    "df_payments.dropDuplicates([\"payment_id\"])\\\n",
    "    .write.format(\"delta\") \\\n",
    "    .mode(\"overwrite\") \\\n",
    "    .saveAsTable(\"fact_payment\")\n",
    "     "
   ]
  },
  {
   "cell_type": "markdown",
   "metadata": {
    "application/vnd.databricks.v1+cell": {
     "cellMetadata": {
      "byteLimit": 2048000,
      "rowLimit": 10000
     },
     "inputWidgets": {},
     "nuid": "d2d447e7-610a-4e3d-b848-1baa8b5e9b2c",
     "showTitle": false,
     "title": ""
    }
   },
   "source": [
    "## Transform dim_riders"
   ]
  },
  {
   "cell_type": "code",
   "execution_count": 0,
   "metadata": {
    "application/vnd.databricks.v1+cell": {
     "cellMetadata": {
      "byteLimit": 2048000,
      "rowLimit": 10000
     },
     "inputWidgets": {},
     "nuid": "70122757-e46a-4167-b6a7-59eef114387b",
     "showTitle": false,
     "title": ""
    }
   },
   "outputs": [
    {
     "output_type": "display_data",
     "data": {
      "text/html": [
       "<style scoped>\n",
       "  .table-result-container {\n",
       "    max-height: 300px;\n",
       "    overflow: auto;\n",
       "  }\n",
       "  table, th, td {\n",
       "    border: 1px solid black;\n",
       "    border-collapse: collapse;\n",
       "  }\n",
       "  th, td {\n",
       "    padding: 5px;\n",
       "  }\n",
       "  th {\n",
       "    text-align: left;\n",
       "  }\n",
       "</style><div class='table-result-container'><table class='table-result'><thead style='background-color: white'><tr><th>rider_id</th><th>first</th><th>last</th><th>address</th><th>birthday</th><th>account_start_date</th><th>account_end_date</th><th>is_member</th></tr></thead><tbody><tr><td>1000</td><td>Diana</td><td>Clark</td><td>1200 Alyssa Squares</td><td>1989-02-13</td><td>2019-04-23</td><td>null</td><td>True</td></tr><tr><td>1001</td><td>Jennifer</td><td>Smith</td><td>397 Diana Ferry</td><td>1976-08-10</td><td>2019-11-01</td><td>2020-09-01</td><td>True</td></tr><tr><td>1002</td><td>Karen</td><td>Smith</td><td>644 Brittany Row Apt. 097</td><td>1998-08-10</td><td>2022-02-04</td><td>null</td><td>True</td></tr><tr><td>1003</td><td>Bryan</td><td>Roberts</td><td>996 Dickerson Turnpike</td><td>1999-03-29</td><td>2019-08-26</td><td>null</td><td>False</td></tr><tr><td>1004</td><td>Jesse</td><td>Middleton</td><td>7009 Nathan Expressway</td><td>1969-04-11</td><td>2019-09-14</td><td>null</td><td>True</td></tr><tr><td>1005</td><td>Christine</td><td>Rodriguez</td><td>224 Washington Mills Apt. 467</td><td>1974-08-27</td><td>2020-03-24</td><td>null</td><td>False</td></tr><tr><td>1006</td><td>Alicia</td><td>Taylor</td><td>1137 Angela Locks</td><td>2004-01-30</td><td>2020-11-27</td><td>2021-12-01</td><td>True</td></tr><tr><td>1007</td><td>Benjamin</td><td>Fernandez</td><td>979 Phillips Ways</td><td>1988-01-11</td><td>2016-12-11</td><td>null</td><td>False</td></tr><tr><td>1008</td><td>John</td><td>Crawford</td><td>7691 Evans Court</td><td>1987-02-21</td><td>2021-03-28</td><td>2021-07-01</td><td>True</td></tr><tr><td>1009</td><td>Victoria</td><td>Ritter</td><td>9922 Jim Crest Apt. 319</td><td>1981-02-07</td><td>2020-06-12</td><td>2021-11-01</td><td>True</td></tr></tbody></table></div>"
      ]
     },
     "metadata": {
      "application/vnd.databricks.v1+output": {
       "addedWidgets": {},
       "aggData": [],
       "aggError": "",
       "aggOverflow": false,
       "aggSchema": [],
       "aggSeriesLimitReached": false,
       "aggType": "",
       "arguments": {},
       "columnCustomDisplayInfos": {},
       "data": [
        [
         "1000",
         "Diana",
         "Clark",
         "1200 Alyssa Squares",
         "1989-02-13",
         "2019-04-23",
         null,
         "True"
        ],
        [
         "1001",
         "Jennifer",
         "Smith",
         "397 Diana Ferry",
         "1976-08-10",
         "2019-11-01",
         "2020-09-01",
         "True"
        ],
        [
         "1002",
         "Karen",
         "Smith",
         "644 Brittany Row Apt. 097",
         "1998-08-10",
         "2022-02-04",
         null,
         "True"
        ],
        [
         "1003",
         "Bryan",
         "Roberts",
         "996 Dickerson Turnpike",
         "1999-03-29",
         "2019-08-26",
         null,
         "False"
        ],
        [
         "1004",
         "Jesse",
         "Middleton",
         "7009 Nathan Expressway",
         "1969-04-11",
         "2019-09-14",
         null,
         "True"
        ],
        [
         "1005",
         "Christine",
         "Rodriguez",
         "224 Washington Mills Apt. 467",
         "1974-08-27",
         "2020-03-24",
         null,
         "False"
        ],
        [
         "1006",
         "Alicia",
         "Taylor",
         "1137 Angela Locks",
         "2004-01-30",
         "2020-11-27",
         "2021-12-01",
         "True"
        ],
        [
         "1007",
         "Benjamin",
         "Fernandez",
         "979 Phillips Ways",
         "1988-01-11",
         "2016-12-11",
         null,
         "False"
        ],
        [
         "1008",
         "John",
         "Crawford",
         "7691 Evans Court",
         "1987-02-21",
         "2021-03-28",
         "2021-07-01",
         "True"
        ],
        [
         "1009",
         "Victoria",
         "Ritter",
         "9922 Jim Crest Apt. 319",
         "1981-02-07",
         "2020-06-12",
         "2021-11-01",
         "True"
        ]
       ],
       "datasetInfos": [],
       "dbfsResultPath": null,
       "isJsonSchema": true,
       "metadata": {},
       "overflow": false,
       "plotOptions": {
        "customPlotOptions": {},
        "displayType": "table",
        "pivotAggregation": null,
        "pivotColumns": null,
        "xColumns": null,
        "yColumns": null
       },
       "removedWidgets": [],
       "schema": [
        {
         "metadata": "{}",
         "name": "rider_id",
         "type": "\"string\""
        },
        {
         "metadata": "{}",
         "name": "first",
         "type": "\"string\""
        },
        {
         "metadata": "{}",
         "name": "last",
         "type": "\"string\""
        },
        {
         "metadata": "{}",
         "name": "address",
         "type": "\"string\""
        },
        {
         "metadata": "{}",
         "name": "birthday",
         "type": "\"string\""
        },
        {
         "metadata": "{}",
         "name": "account_start_date",
         "type": "\"string\""
        },
        {
         "metadata": "{}",
         "name": "account_end_date",
         "type": "\"string\""
        },
        {
         "metadata": "{}",
         "name": "is_member",
         "type": "\"string\""
        }
       ],
       "type": "table"
      }
     },
     "output_type": "display_data"
    }
   ],
   "source": [
    "# Read data default taging_riders\n",
    "\n",
    "df_riders = spark.table(\"taging_riders\")\n",
    "\n",
    "display(df_riders.limit(10))"
   ]
  },
  {
   "cell_type": "code",
   "execution_count": 0,
   "metadata": {
    "application/vnd.databricks.v1+cell": {
     "cellMetadata": {
      "byteLimit": 2048000,
      "rowLimit": 10000
     },
     "inputWidgets": {},
     "nuid": "c215cf61-967d-4fc8-972a-9c729dc212db",
     "showTitle": false,
     "title": ""
    }
   },
   "outputs": [],
   "source": [
    "\n",
    "#create dim_rider table\n",
    "df_riders.dropDuplicates([\"rider_id\"])\\\n",
    "    .write.format(\"delta\") \\\n",
    "    .mode(\"overwrite\") \\\n",
    "    .saveAsTable(\"dim_rider\")\n",
    "     "
   ]
  },
  {
   "cell_type": "markdown",
   "metadata": {
    "application/vnd.databricks.v1+cell": {
     "cellMetadata": {
      "byteLimit": 2048000,
      "rowLimit": 10000
     },
     "inputWidgets": {},
     "nuid": "ad1b7957-2c1b-4f18-9ed9-cc82c073e68f",
     "showTitle": false,
     "title": ""
    }
   },
   "source": [
    "## Transform dim_station\n"
   ]
  },
  {
   "cell_type": "code",
   "execution_count": 0,
   "metadata": {
    "application/vnd.databricks.v1+cell": {
     "cellMetadata": {
      "byteLimit": 2048000,
      "rowLimit": 10000
     },
     "inputWidgets": {},
     "nuid": "197b471f-f4d0-4f8f-9616-7fa682d60581",
     "showTitle": false,
     "title": ""
    }
   },
   "outputs": [
    {
     "output_type": "display_data",
     "data": {
      "text/html": [
       "<style scoped>\n",
       "  .table-result-container {\n",
       "    max-height: 300px;\n",
       "    overflow: auto;\n",
       "  }\n",
       "  table, th, td {\n",
       "    border: 1px solid black;\n",
       "    border-collapse: collapse;\n",
       "  }\n",
       "  th, td {\n",
       "    padding: 5px;\n",
       "  }\n",
       "  th {\n",
       "    text-align: left;\n",
       "  }\n",
       "</style><div class='table-result-container'><table class='table-result'><thead style='background-color: white'><tr><th>station_id</th><th>name</th><th>latitude</th><th>longitude</th></tr></thead><tbody><tr><td>525</td><td>Glenwood Ave & Touhy Ave</td><td>42.012701</td><td>-87.66605799999999</td></tr><tr><td>KA1503000012</td><td>Clark St & Lake St</td><td>41.88579466666667</td><td>-87.63110066666668</td></tr><tr><td>637</td><td>Wood St & Chicago Ave</td><td>41.895634</td><td>-87.672069</td></tr><tr><td>13216</td><td>State St & 33rd St</td><td>41.8347335</td><td>-87.6258275</td></tr><tr><td>18003</td><td>Fairbanks St & Superior St</td><td>41.89580766666667</td><td>-87.62025316666669</td></tr><tr><td>KP1705001026</td><td>LaSalle Dr & Huron St</td><td>41.894877</td><td>-87.632326</td></tr><tr><td>13253</td><td>Lincoln Ave & Waveland Ave</td><td>41.948797</td><td>-87.675278</td></tr><tr><td>KA1503000044</td><td>Rush St & Hubbard St</td><td>41.890173</td><td>-87.62618499999999</td></tr><tr><td>KA1504000140</td><td>Winchester Ave & Elston Ave</td><td>41.92403733333333</td><td>-87.67641483333334</td></tr><tr><td>TA1305000032</td><td>Clinton St & Madison St</td><td>41.882242</td><td>-87.64106600000001</td></tr></tbody></table></div>"
      ]
     },
     "metadata": {
      "application/vnd.databricks.v1+output": {
       "addedWidgets": {},
       "aggData": [],
       "aggError": "",
       "aggOverflow": false,
       "aggSchema": [],
       "aggSeriesLimitReached": false,
       "aggType": "",
       "arguments": {},
       "columnCustomDisplayInfos": {},
       "data": [
        [
         "525",
         "Glenwood Ave & Touhy Ave",
         "42.012701",
         "-87.66605799999999"
        ],
        [
         "KA1503000012",
         "Clark St & Lake St",
         "41.88579466666667",
         "-87.63110066666668"
        ],
        [
         "637",
         "Wood St & Chicago Ave",
         "41.895634",
         "-87.672069"
        ],
        [
         "13216",
         "State St & 33rd St",
         "41.8347335",
         "-87.6258275"
        ],
        [
         "18003",
         "Fairbanks St & Superior St",
         "41.89580766666667",
         "-87.62025316666669"
        ],
        [
         "KP1705001026",
         "LaSalle Dr & Huron St",
         "41.894877",
         "-87.632326"
        ],
        [
         "13253",
         "Lincoln Ave & Waveland Ave",
         "41.948797",
         "-87.675278"
        ],
        [
         "KA1503000044",
         "Rush St & Hubbard St",
         "41.890173",
         "-87.62618499999999"
        ],
        [
         "KA1504000140",
         "Winchester Ave & Elston Ave",
         "41.92403733333333",
         "-87.67641483333334"
        ],
        [
         "TA1305000032",
         "Clinton St & Madison St",
         "41.882242",
         "-87.64106600000001"
        ]
       ],
       "datasetInfos": [],
       "dbfsResultPath": null,
       "isJsonSchema": true,
       "metadata": {},
       "overflow": false,
       "plotOptions": {
        "customPlotOptions": {},
        "displayType": "table",
        "pivotAggregation": null,
        "pivotColumns": null,
        "xColumns": null,
        "yColumns": null
       },
       "removedWidgets": [],
       "schema": [
        {
         "metadata": "{}",
         "name": "station_id",
         "type": "\"string\""
        },
        {
         "metadata": "{}",
         "name": "name",
         "type": "\"string\""
        },
        {
         "metadata": "{}",
         "name": "latitude",
         "type": "\"string\""
        },
        {
         "metadata": "{}",
         "name": "longitude",
         "type": "\"string\""
        }
       ],
       "type": "table"
      }
     },
     "output_type": "display_data"
    }
   ],
   "source": [
    "# Read data default taging_stations\n",
    "\n",
    "df_stations = spark.table(\"taging_stations\")\n",
    "\n",
    "display(df_stations.limit(10))"
   ]
  },
  {
   "cell_type": "code",
   "execution_count": 0,
   "metadata": {
    "application/vnd.databricks.v1+cell": {
     "cellMetadata": {
      "byteLimit": 2048000,
      "rowLimit": 10000
     },
     "inputWidgets": {},
     "nuid": "aa2034c6-8a08-4bff-b6d1-55471452c5b7",
     "showTitle": false,
     "title": ""
    }
   },
   "outputs": [],
   "source": [
    "\n",
    "#create dim_station table\n",
    "df_stations.dropDuplicates([\"station_id\"])\\\n",
    "    .write.format(\"delta\") \\\n",
    "    .mode(\"overwrite\") \\\n",
    "    .saveAsTable(\"dim_station\")\n",
    "     "
   ]
  },
  {
   "cell_type": "markdown",
   "metadata": {
    "application/vnd.databricks.v1+cell": {
     "cellMetadata": {},
     "inputWidgets": {},
     "nuid": "6a3d45e1-b183-46a5-a733-92aeb6253b2e",
     "showTitle": false,
     "title": ""
    }
   },
   "source": [
    "## Transform fact_trip"
   ]
  },
  {
   "cell_type": "code",
   "execution_count": 0,
   "metadata": {
    "application/vnd.databricks.v1+cell": {
     "cellMetadata": {
      "byteLimit": 2048000,
      "rowLimit": 10000
     },
     "inputWidgets": {},
     "nuid": "097a6e9a-afd7-4dbe-8a5c-54fed1ef30fd",
     "showTitle": false,
     "title": ""
    }
   },
   "outputs": [
    {
     "output_type": "display_data",
     "data": {
      "text/html": [
       "<style scoped>\n",
       "  .table-result-container {\n",
       "    max-height: 300px;\n",
       "    overflow: auto;\n",
       "  }\n",
       "  table, th, td {\n",
       "    border: 1px solid black;\n",
       "    border-collapse: collapse;\n",
       "  }\n",
       "  th, td {\n",
       "    padding: 5px;\n",
       "  }\n",
       "  th {\n",
       "    text-align: left;\n",
       "  }\n",
       "</style><div class='table-result-container'><table class='table-result'><thead style='background-color: white'><tr><th>trip_id</th><th>rideable_type</th><th>start_at</th><th>ended_at</th><th>start_station_id</th><th>end_station_id</th><th>rider_id</th></tr></thead><tbody><tr><td>F6F309843C09CAAC</td><td>classic_bike</td><td>2021-09-02 18:36:00</td><td>2021-09-02 18:48:43</td><td>TA1306000026</td><td>TA1307000041</td><td>70456</td></tr><tr><td>BD496FA19316E89C</td><td>classic_bike</td><td>2021-09-02 17:23:28</td><td>2021-09-02 17:32:43</td><td>TA1306000026</td><td>TA1309000019</td><td>24732</td></tr><tr><td>657E606A35206CC1</td><td>classic_bike</td><td>2021-09-05 23:13:43</td><td>2021-09-05 23:30:26</td><td>15642</td><td>TA1305000041</td><td>11875</td></tr><tr><td>B10DEEC4A5D90EB3</td><td>electric_bike</td><td>2021-09-09 18:26:00</td><td>2021-09-09 18:40:17</td><td>TA1307000001</td><td>TA1308000049</td><td>33064</td></tr><tr><td>268A00298A05078B</td><td>classic_bike</td><td>2021-09-06 18:49:27</td><td>2021-09-06 19:02:22</td><td>TA1306000026</td><td>TA1308000049</td><td>71976</td></tr><tr><td>41E9E476004232FD</td><td>electric_bike</td><td>2021-09-04 21:41:58</td><td>2021-09-04 22:03:02</td><td>13235</td><td>TA1305000041</td><td>43348</td></tr><tr><td>3F89D8A2BEE07478</td><td>classic_bike</td><td>2021-09-11 16:10:38</td><td>2021-09-11 16:36:36</td><td>13235</td><td>TA1307000041</td><td>1159</td></tr><tr><td>0BE315967E011514</td><td>electric_bike</td><td>2021-09-22 21:53:46</td><td>2021-09-22 22:11:58</td><td>13235</td><td>TA1309000019</td><td>75374</td></tr><tr><td>AE58DD50675A5E4E</td><td>classic_bike</td><td>2021-09-05 00:41:37</td><td>2021-09-05 00:54:15</td><td>TA1306000026</td><td>TA1308000049</td><td>3290</td></tr><tr><td>B435E6AE404F547E</td><td>classic_bike</td><td>2021-09-11 17:23:49</td><td>2021-09-11 17:37:19</td><td>TA1306000026</td><td>TA1307000041</td><td>31610</td></tr></tbody></table></div>"
      ]
     },
     "metadata": {
      "application/vnd.databricks.v1+output": {
       "addedWidgets": {},
       "aggData": [],
       "aggError": "",
       "aggOverflow": false,
       "aggSchema": [],
       "aggSeriesLimitReached": false,
       "aggType": "",
       "arguments": {},
       "columnCustomDisplayInfos": {},
       "data": [
        [
         "F6F309843C09CAAC",
         "classic_bike",
         "2021-09-02 18:36:00",
         "2021-09-02 18:48:43",
         "TA1306000026",
         "TA1307000041",
         "70456"
        ],
        [
         "BD496FA19316E89C",
         "classic_bike",
         "2021-09-02 17:23:28",
         "2021-09-02 17:32:43",
         "TA1306000026",
         "TA1309000019",
         "24732"
        ],
        [
         "657E606A35206CC1",
         "classic_bike",
         "2021-09-05 23:13:43",
         "2021-09-05 23:30:26",
         "15642",
         "TA1305000041",
         "11875"
        ],
        [
         "B10DEEC4A5D90EB3",
         "electric_bike",
         "2021-09-09 18:26:00",
         "2021-09-09 18:40:17",
         "TA1307000001",
         "TA1308000049",
         "33064"
        ],
        [
         "268A00298A05078B",
         "classic_bike",
         "2021-09-06 18:49:27",
         "2021-09-06 19:02:22",
         "TA1306000026",
         "TA1308000049",
         "71976"
        ],
        [
         "41E9E476004232FD",
         "electric_bike",
         "2021-09-04 21:41:58",
         "2021-09-04 22:03:02",
         "13235",
         "TA1305000041",
         "43348"
        ],
        [
         "3F89D8A2BEE07478",
         "classic_bike",
         "2021-09-11 16:10:38",
         "2021-09-11 16:36:36",
         "13235",
         "TA1307000041",
         "1159"
        ],
        [
         "0BE315967E011514",
         "electric_bike",
         "2021-09-22 21:53:46",
         "2021-09-22 22:11:58",
         "13235",
         "TA1309000019",
         "75374"
        ],
        [
         "AE58DD50675A5E4E",
         "classic_bike",
         "2021-09-05 00:41:37",
         "2021-09-05 00:54:15",
         "TA1306000026",
         "TA1308000049",
         "3290"
        ],
        [
         "B435E6AE404F547E",
         "classic_bike",
         "2021-09-11 17:23:49",
         "2021-09-11 17:37:19",
         "TA1306000026",
         "TA1307000041",
         "31610"
        ]
       ],
       "datasetInfos": [],
       "dbfsResultPath": null,
       "isJsonSchema": true,
       "metadata": {},
       "overflow": false,
       "plotOptions": {
        "customPlotOptions": {},
        "displayType": "table",
        "pivotAggregation": null,
        "pivotColumns": null,
        "xColumns": null,
        "yColumns": null
       },
       "removedWidgets": [],
       "schema": [
        {
         "metadata": "{}",
         "name": "trip_id",
         "type": "\"string\""
        },
        {
         "metadata": "{}",
         "name": "rideable_type",
         "type": "\"string\""
        },
        {
         "metadata": "{}",
         "name": "start_at",
         "type": "\"string\""
        },
        {
         "metadata": "{}",
         "name": "ended_at",
         "type": "\"string\""
        },
        {
         "metadata": "{}",
         "name": "start_station_id",
         "type": "\"string\""
        },
        {
         "metadata": "{}",
         "name": "end_station_id",
         "type": "\"string\""
        },
        {
         "metadata": "{}",
         "name": "rider_id",
         "type": "\"string\""
        }
       ],
       "type": "table"
      }
     },
     "output_type": "display_data"
    }
   ],
   "source": [
    "# Read data default taging_trips\n",
    "\n",
    "df_trips = spark.table(\"taging_trips\")\n",
    "\n",
    "display(df_trips.limit(10))"
   ]
  },
  {
   "cell_type": "code",
   "execution_count": 0,
   "metadata": {
    "application/vnd.databricks.v1+cell": {
     "cellMetadata": {
      "byteLimit": 2048000,
      "rowLimit": 10000
     },
     "inputWidgets": {},
     "nuid": "a8885ce8-413b-487e-ab7b-713ccd9ed966",
     "showTitle": false,
     "title": ""
    }
   },
   "outputs": [
    {
     "output_type": "display_data",
     "data": {
      "text/html": [
       "<style scoped>\n",
       "  .table-result-container {\n",
       "    max-height: 300px;\n",
       "    overflow: auto;\n",
       "  }\n",
       "  table, th, td {\n",
       "    border: 1px solid black;\n",
       "    border-collapse: collapse;\n",
       "  }\n",
       "  th, td {\n",
       "    padding: 5px;\n",
       "  }\n",
       "  th {\n",
       "    text-align: left;\n",
       "  }\n",
       "</style><div class='table-result-container'><table class='table-result'><thead style='background-color: white'><tr><th>trip_id</th><th>duration</th><th>rider_age</th><th>rideable_type</th><th>start_station_id</th><th>end_station_id</th><th>start_at</th><th>ended_at</th><th>rider_id</th></tr></thead><tbody><tr><td>F6F309843C09CAAC</td><td>13.0</td><td>null</td><td>classic_bike</td><td>TA1306000026</td><td>TA1307000041</td><td>2021-09-02 18:36:00</td><td>2021-09-02 18:48:43</td><td>70456</td></tr><tr><td>BD496FA19316E89C</td><td>9.0</td><td>null</td><td>classic_bike</td><td>TA1306000026</td><td>TA1309000019</td><td>2021-09-02 17:23:28</td><td>2021-09-02 17:32:43</td><td>24732</td></tr><tr><td>657E606A35206CC1</td><td>17.0</td><td>null</td><td>classic_bike</td><td>15642</td><td>TA1305000041</td><td>2021-09-05 23:13:43</td><td>2021-09-05 23:30:26</td><td>11875</td></tr><tr><td>B10DEEC4A5D90EB3</td><td>14.0</td><td>null</td><td>electric_bike</td><td>TA1307000001</td><td>TA1308000049</td><td>2021-09-09 18:26:00</td><td>2021-09-09 18:40:17</td><td>33064</td></tr><tr><td>268A00298A05078B</td><td>13.0</td><td>null</td><td>classic_bike</td><td>TA1306000026</td><td>TA1308000049</td><td>2021-09-06 18:49:27</td><td>2021-09-06 19:02:22</td><td>71976</td></tr><tr><td>41E9E476004232FD</td><td>21.0</td><td>null</td><td>electric_bike</td><td>13235</td><td>TA1305000041</td><td>2021-09-04 21:41:58</td><td>2021-09-04 22:03:02</td><td>43348</td></tr><tr><td>3F89D8A2BEE07478</td><td>26.0</td><td>null</td><td>classic_bike</td><td>13235</td><td>TA1307000041</td><td>2021-09-11 16:10:38</td><td>2021-09-11 16:36:36</td><td>1159</td></tr><tr><td>0BE315967E011514</td><td>18.0</td><td>null</td><td>electric_bike</td><td>13235</td><td>TA1309000019</td><td>2021-09-22 21:53:46</td><td>2021-09-22 22:11:58</td><td>75374</td></tr><tr><td>AE58DD50675A5E4E</td><td>13.0</td><td>null</td><td>classic_bike</td><td>TA1306000026</td><td>TA1308000049</td><td>2021-09-05 00:41:37</td><td>2021-09-05 00:54:15</td><td>3290</td></tr><tr><td>B435E6AE404F547E</td><td>14.0</td><td>null</td><td>classic_bike</td><td>TA1306000026</td><td>TA1307000041</td><td>2021-09-11 17:23:49</td><td>2021-09-11 17:37:19</td><td>31610</td></tr></tbody></table></div>"
      ]
     },
     "metadata": {
      "application/vnd.databricks.v1+output": {
       "addedWidgets": {},
       "aggData": [],
       "aggError": "",
       "aggOverflow": false,
       "aggSchema": [],
       "aggSeriesLimitReached": false,
       "aggType": "",
       "arguments": {},
       "columnCustomDisplayInfos": {},
       "data": [
        [
         "F6F309843C09CAAC",
         13.0,
         null,
         "classic_bike",
         "TA1306000026",
         "TA1307000041",
         "2021-09-02 18:36:00",
         "2021-09-02 18:48:43",
         "70456"
        ],
        [
         "BD496FA19316E89C",
         9.0,
         null,
         "classic_bike",
         "TA1306000026",
         "TA1309000019",
         "2021-09-02 17:23:28",
         "2021-09-02 17:32:43",
         "24732"
        ],
        [
         "657E606A35206CC1",
         17.0,
         null,
         "classic_bike",
         "15642",
         "TA1305000041",
         "2021-09-05 23:13:43",
         "2021-09-05 23:30:26",
         "11875"
        ],
        [
         "B10DEEC4A5D90EB3",
         14.0,
         null,
         "electric_bike",
         "TA1307000001",
         "TA1308000049",
         "2021-09-09 18:26:00",
         "2021-09-09 18:40:17",
         "33064"
        ],
        [
         "268A00298A05078B",
         13.0,
         null,
         "classic_bike",
         "TA1306000026",
         "TA1308000049",
         "2021-09-06 18:49:27",
         "2021-09-06 19:02:22",
         "71976"
        ],
        [
         "41E9E476004232FD",
         21.0,
         null,
         "electric_bike",
         "13235",
         "TA1305000041",
         "2021-09-04 21:41:58",
         "2021-09-04 22:03:02",
         "43348"
        ],
        [
         "3F89D8A2BEE07478",
         26.0,
         null,
         "classic_bike",
         "13235",
         "TA1307000041",
         "2021-09-11 16:10:38",
         "2021-09-11 16:36:36",
         "1159"
        ],
        [
         "0BE315967E011514",
         18.0,
         null,
         "electric_bike",
         "13235",
         "TA1309000019",
         "2021-09-22 21:53:46",
         "2021-09-22 22:11:58",
         "75374"
        ],
        [
         "AE58DD50675A5E4E",
         13.0,
         null,
         "classic_bike",
         "TA1306000026",
         "TA1308000049",
         "2021-09-05 00:41:37",
         "2021-09-05 00:54:15",
         "3290"
        ],
        [
         "B435E6AE404F547E",
         14.0,
         null,
         "classic_bike",
         "TA1306000026",
         "TA1307000041",
         "2021-09-11 17:23:49",
         "2021-09-11 17:37:19",
         "31610"
        ]
       ],
       "datasetInfos": [],
       "dbfsResultPath": null,
       "isJsonSchema": true,
       "metadata": {},
       "overflow": false,
       "plotOptions": {
        "customPlotOptions": {},
        "displayType": "table",
        "pivotAggregation": null,
        "pivotColumns": null,
        "xColumns": null,
        "yColumns": null
       },
       "removedWidgets": [],
       "schema": [
        {
         "metadata": "{}",
         "name": "trip_id",
         "type": "\"string\""
        },
        {
         "metadata": "{}",
         "name": "duration",
         "type": "\"double\""
        },
        {
         "metadata": "{}",
         "name": "rider_age",
         "type": "\"double\""
        },
        {
         "metadata": "{}",
         "name": "rideable_type",
         "type": "\"string\""
        },
        {
         "metadata": "{}",
         "name": "start_station_id",
         "type": "\"string\""
        },
        {
         "metadata": "{}",
         "name": "end_station_id",
         "type": "\"string\""
        },
        {
         "metadata": "{}",
         "name": "start_at",
         "type": "\"string\""
        },
        {
         "metadata": "{}",
         "name": "ended_at",
         "type": "\"string\""
        },
        {
         "metadata": "{}",
         "name": "rider_id",
         "type": "\"string\""
        }
       ],
       "type": "table"
      }
     },
     "output_type": "display_data"
    }
   ],
   "source": [
    "# create data_trips that take information from df_trips and df_riders\n",
    "data_trips = df_trips.alias(\"tr\").join(df_riders.alias(\"ri\"), col(\"tr.rider_id\") == col(\"ri.rider_id\"), \"left\") \\\n",
    "    .withColumn('duration', round((unix_timestamp(\"ended_at\") - unix_timestamp('start_at'))/60)) \\\n",
    "    .withColumn('rider_age', round((unix_timestamp(\"account_start_date\") - unix_timestamp('birthday'))/3600/24)) \\\n",
    "    .select(\"trip_id\", \"duration\", \"rider_age\", \"rideable_type\", \"start_station_id\", \"end_station_id\", \"start_at\", \"ended_at\", col(\"tr.rider_id\"))\n",
    "            \n",
    "display(data_trips.limit(10))"
   ]
  },
  {
   "cell_type": "code",
   "execution_count": 0,
   "metadata": {
    "application/vnd.databricks.v1+cell": {
     "cellMetadata": {
      "byteLimit": 2048000,
      "rowLimit": 10000
     },
     "inputWidgets": {},
     "nuid": "f872dac5-b25e-4415-8d4b-60a77935c312",
     "showTitle": false,
     "title": ""
    }
   },
   "outputs": [],
   "source": [
    "\n",
    "#create fact_trip table\n",
    "data_trips.dropDuplicates([\"trip_id\"])\\\n",
    "    .write.format(\"delta\") \\\n",
    "    .mode(\"overwrite\") \\\n",
    "    .saveAsTable(\"face_trip\")\n",
    "     "
   ]
  },
  {
   "cell_type": "markdown",
   "metadata": {
    "application/vnd.databricks.v1+cell": {
     "cellMetadata": {},
     "inputWidgets": {},
     "nuid": "b1a455da-abb4-470d-b880-470e2695b8ad",
     "showTitle": false,
     "title": ""
    }
   },
   "source": [
    "## Transform dim_time"
   ]
  },
  {
   "cell_type": "code",
   "execution_count": 0,
   "metadata": {
    "application/vnd.databricks.v1+cell": {
     "cellMetadata": {
      "byteLimit": 2048000,
      "rowLimit": 10000
     },
     "inputWidgets": {},
     "nuid": "495d86ad-7880-43b6-93f9-de175fa78f86",
     "showTitle": false,
     "title": ""
    }
   },
   "outputs": [
    {
     "output_type": "display_data",
     "data": {
      "text/html": [
       "<style scoped>\n",
       "  .table-result-container {\n",
       "    max-height: 300px;\n",
       "    overflow: auto;\n",
       "  }\n",
       "  table, th, td {\n",
       "    border: 1px solid black;\n",
       "    border-collapse: collapse;\n",
       "  }\n",
       "  th, td {\n",
       "    padding: 5px;\n",
       "  }\n",
       "  th {\n",
       "    text-align: left;\n",
       "  }\n",
       "</style><div class='table-result-container'><table class='table-result'><thead style='background-color: white'><tr><th>time_id</th><th>date</th><th>day_of_week</th><th>day_of_month</th><th>year</th><th>quarter</th><th>month</th></tr></thead><tbody><tr><td>1</td><td>2021-02-01T00:00:00Z</td><td>2</td><td>1</td><td>2021</td><td>1</td><td>2</td></tr><tr><td>1</td><td>2021-02-02T00:00:00Z</td><td>3</td><td>2</td><td>2021</td><td>1</td><td>2</td></tr><tr><td>1</td><td>2021-02-03T00:00:00Z</td><td>4</td><td>3</td><td>2021</td><td>1</td><td>2</td></tr><tr><td>1</td><td>2021-02-04T00:00:00Z</td><td>5</td><td>4</td><td>2021</td><td>1</td><td>2</td></tr><tr><td>1</td><td>2021-02-05T00:00:00Z</td><td>6</td><td>5</td><td>2021</td><td>1</td><td>2</td></tr><tr><td>1</td><td>2021-02-06T00:00:00Z</td><td>7</td><td>6</td><td>2021</td><td>1</td><td>2</td></tr><tr><td>1</td><td>2021-02-07T00:00:00Z</td><td>1</td><td>7</td><td>2021</td><td>1</td><td>2</td></tr><tr><td>1</td><td>2021-02-08T00:00:00Z</td><td>2</td><td>8</td><td>2021</td><td>1</td><td>2</td></tr><tr><td>1</td><td>2021-02-09T00:00:00Z</td><td>3</td><td>9</td><td>2021</td><td>1</td><td>2</td></tr><tr><td>1</td><td>2021-02-10T00:00:00Z</td><td>4</td><td>10</td><td>2021</td><td>1</td><td>2</td></tr></tbody></table></div>"
      ]
     },
     "metadata": {
      "application/vnd.databricks.v1+output": {
       "addedWidgets": {},
       "aggData": [],
       "aggError": "",
       "aggOverflow": false,
       "aggSchema": [],
       "aggSeriesLimitReached": false,
       "aggType": "",
       "arguments": {},
       "columnCustomDisplayInfos": {},
       "data": [
        [
         1,
         "2021-02-01T00:00:00Z",
         2,
         1,
         2021,
         1,
         2
        ],
        [
         1,
         "2021-02-02T00:00:00Z",
         3,
         2,
         2021,
         1,
         2
        ],
        [
         1,
         "2021-02-03T00:00:00Z",
         4,
         3,
         2021,
         1,
         2
        ],
        [
         1,
         "2021-02-04T00:00:00Z",
         5,
         4,
         2021,
         1,
         2
        ],
        [
         1,
         "2021-02-05T00:00:00Z",
         6,
         5,
         2021,
         1,
         2
        ],
        [
         1,
         "2021-02-06T00:00:00Z",
         7,
         6,
         2021,
         1,
         2
        ],
        [
         1,
         "2021-02-07T00:00:00Z",
         1,
         7,
         2021,
         1,
         2
        ],
        [
         1,
         "2021-02-08T00:00:00Z",
         2,
         8,
         2021,
         1,
         2
        ],
        [
         1,
         "2021-02-09T00:00:00Z",
         3,
         9,
         2021,
         1,
         2
        ],
        [
         1,
         "2021-02-10T00:00:00Z",
         4,
         10,
         2021,
         1,
         2
        ]
       ],
       "datasetInfos": [],
       "dbfsResultPath": null,
       "isJsonSchema": true,
       "metadata": {},
       "overflow": false,
       "plotOptions": {
        "customPlotOptions": {},
        "displayType": "table",
        "pivotAggregation": null,
        "pivotColumns": null,
        "xColumns": null,
        "yColumns": null
       },
       "removedWidgets": [],
       "schema": [
        {
         "metadata": "{}",
         "name": "time_id",
         "type": "\"long\""
        },
        {
         "metadata": "{}",
         "name": "date",
         "type": "\"timestamp\""
        },
        {
         "metadata": "{}",
         "name": "day_of_week",
         "type": "\"integer\""
        },
        {
         "metadata": "{}",
         "name": "day_of_month",
         "type": "\"integer\""
        },
        {
         "metadata": "{}",
         "name": "year",
         "type": "\"integer\""
        },
        {
         "metadata": "{}",
         "name": "quarter",
         "type": "\"integer\""
        },
        {
         "metadata": "{}",
         "name": "month",
         "type": "\"integer\""
        }
       ],
       "type": "table"
      }
     },
     "output_type": "display_data"
    }
   ],
   "source": [
    "\n",
    "\n",
    "# Get min date from df_trips\n",
    "date_min = df_trips.selectExpr('MIN(start_at) AS started_at')\\\n",
    "    .first().asDict()['started_at']\n",
    "# set max date\n",
    "date_max = df_trips.selectExpr('DATEADD(year, 5, MAX(start_at)) AS started_at')\\\n",
    "    .first().asDict()['started_at']\n",
    "\n",
    "expression = f\"sequence(to_date('{date_min}'), to_date('{date_max}'), interval 1 day)\"\n",
    "data_time = spark.createDataFrame([(1,)], [\"time_id\"])\n",
    "\n",
    "data_time = data_time.withColumn(\"dateinit\", explode(expr(expression)))\n",
    "data_time = data_time.withColumn(\"date\", to_timestamp(data_time.dateinit, \"yyyy-MM-dd\"))\n",
    "\n",
    "data_time = data_time \\\n",
    "            .withColumn(\"day_of_week\", dayofweek(data_time.date)) \\\n",
    "            .withColumn(\"day_of_month\", dayofmonth(data_time.date)) \\\n",
    "            .withColumn(\"year\", year(data_time.date)) \\\n",
    "            .withColumn(\"quarter\", quarter(data_time.date)) \\\n",
    "            .withColumn(\"month\", month(data_time.date)) \\\n",
    "            .drop(col(\"dateinit\"))\n",
    "\n",
    "display(data_time.limit(10))"
   ]
  },
  {
   "cell_type": "code",
   "execution_count": 0,
   "metadata": {
    "application/vnd.databricks.v1+cell": {
     "cellMetadata": {
      "byteLimit": 2048000,
      "rowLimit": 10000
     },
     "inputWidgets": {},
     "nuid": "b86113e9-057b-4c96-b75c-09cb458d7851",
     "showTitle": false,
     "title": ""
    }
   },
   "outputs": [],
   "source": [
    "\n",
    "#create dim_time table\n",
    "data_time.write.format(\"delta\") \\\n",
    "    .mode(\"overwrite\") \\\n",
    "    .saveAsTable(\"dim_time\")\n",
    "     "
   ]
  },
  {
   "cell_type": "markdown",
   "metadata": {
    "application/vnd.databricks.v1+cell": {
     "cellMetadata": {},
     "inputWidgets": {},
     "nuid": "e684f749-9c90-4f08-acd8-5585e7244b90",
     "showTitle": false,
     "title": ""
    }
   },
   "source": [
    "end"
   ]
  }
 ],
 "metadata": {
  "application/vnd.databricks.v1+notebook": {
   "dashboards": [],
   "language": "python",
   "notebookMetadata": {
    "pythonIndentUnit": 4
   },
   "notebookName": "transform_data",
   "widgets": {}
  }
 },
 "nbformat": 4,
 "nbformat_minor": 0
}
